{
 "cells": [
  {
   "cell_type": "code",
   "execution_count": 5,
   "id": "5bb1cc0b",
   "metadata": {},
   "outputs": [],
   "source": [
    "import requests\n",
    "import pandas as pd\n",
    "from datetime import datetime\n",
    "import time\n",
    "import json\n"
   ]
  },
  {
   "cell_type": "code",
   "execution_count": 6,
   "id": "e30f14ec",
   "metadata": {},
   "outputs": [],
   "source": [
    "# Replace with your GitHub username, repository name, and access token # timzzy deepTralog tensorflow\n",
    "username = \"framework username\"\n",
    "repository = \"framework repository name\"\n",
    "access_token = \"my github access token\"\n",
    "\n",
    "json_name = \"all_commits_\" + repository\n"
   ]
  },
  {
   "cell_type": "code",
   "execution_count": 7,
   "id": "174c569d",
   "metadata": {},
   "outputs": [],
   "source": [
    "def fetch_json(json_name):\n",
    "    with open(\"raw_json/\"+json_name  + \".json\", 'r') as json_file:\n",
    "        json_data = json.load(json_file)\n",
    "    return json_data\n",
    "\n",
    "\n",
    "def fetch_commit_comments(json_name):\n",
    "    comment_commits = []\n",
    "     \n",
    "    #call the function that loads the issue json file\n",
    "    all_json = fetch_json(json_name)\n",
    "    all_commit_json = sorted(all_json, key=lambda x: x['commit']['author']['date'], reverse=False)\n",
    "    \n",
    "    \n",
    "    for commit in all_json:\n",
    "        commit_sha = commit['sha']\n",
    "        #print(f\"Issue #{issue_number}: {issue['title']}\")\n",
    "        \n",
    "        \n",
    "        headers = {\n",
    "           \"Authorization\": f\"Bearer {access_token}\",\n",
    "           \"Accept\": \"application/vnd.github.v3+json\"\n",
    "         }\n",
    "        \n",
    "        params = {\n",
    "                    \"per_page\": 100\n",
    "                } \n",
    "\n",
    "        \n",
    "        # Get comments for the current commit\n",
    "        commits_url = f\"https://api.github.com/repos/{username}/{repository}/commits/{commit_sha}/comments\"\n",
    "        comments_response = requests.get(commits_url, headers=headers, params=params)\n",
    "    \n",
    "        if (comments_response.status_code == 200) :\n",
    "            comment_commits.extend(comments_response.json())\n",
    "#             for comment in issue_commits:\n",
    "#                 print(f\"Comment by {comment['user']['login']}: {comment['body']}\")\n",
    "        else:\n",
    "            comment_commits = []\n",
    "#            print(f\"Request failed with status code: {response.status_code}\")\n",
    "        \n",
    "        #time.sleep(60)\n",
    "    return comment_commits\n"
   ]
  },
  {
   "cell_type": "code",
   "execution_count": 8,
   "id": "f9abb2ee",
   "metadata": {},
   "outputs": [
    {
     "name": "stdout",
     "output_type": "stream",
     "text": [
      "successfully saved as commit_comments_deepTralog.json\n"
     ]
    }
   ],
   "source": [
    "#Save the commit comments to a json file\n",
    "try:\n",
    "    if __name__ == \"__main__\":\n",
    "        comment_file_name= \"commit_comments_\" + repository\n",
    "        all_comments = fetch_commit_comments(json_name)\n",
    "        file_path = \"raw_json/\" + comment_file_name + \".json\"\n",
    "        with open(file_path, \"w\") as json_file:\n",
    "            json.dump(all_comments, json_file, indent=1) \n",
    "        print(f\"successfully saved as {comment_file_name}.json\" )\n",
    "except Exception as e:\n",
    "    print(\"An error occurred, could not save the file\", e)"
   ]
  },
  {
   "cell_type": "code",
   "execution_count": 102,
   "id": "ec7ff789",
   "metadata": {},
   "outputs": [
    {
     "name": "stdout",
     "output_type": "stream",
     "text": [
      "Server: GitHub.com\n",
      "Date: Tue, 22 Aug 2023 19:10:09 GMT\n",
      "Content-Type: application/json; charset=utf-8\n",
      "Transfer-Encoding: chunked\n",
      "Cache-Control: private, max-age=60, s-maxage=60\n",
      "Vary: Accept, Authorization, Cookie, X-GitHub-OTP, Accept-Encoding, Accept, X-Requested-With\n",
      "ETag: W/\"2b41b0a6d3ca953467a9e03e363041133b5ecc44cf4b1a9a33f011cf3da9c8da\"\n",
      "Last-Modified: Tue, 22 Aug 2023 13:52:04 GMT\n",
      "X-OAuth-Scopes: admin:enterprise, admin:gpg_key, admin:org, admin:org_hook, admin:public_key, admin:repo_hook, admin:ssh_signing_key, codespace, copilot, delete:packages, delete_repo, gist, notifications, project, repo, user, workflow, write:discussion, write:packages\n",
      "X-Accepted-OAuth-Scopes: \n",
      "X-GitHub-Media-Type: github.v3; format=json\n",
      "x-github-api-version-selected: 2022-11-28\n",
      "X-RateLimit-Limit: 5000\n",
      "X-RateLimit-Remaining: 4970\n",
      "X-RateLimit-Reset: 1692733649\n",
      "X-RateLimit-Used: 30\n",
      "X-RateLimit-Resource: core\n",
      "Access-Control-Expose-Headers: ETag, Link, Location, Retry-After, X-GitHub-OTP, X-RateLimit-Limit, X-RateLimit-Remaining, X-RateLimit-Used, X-RateLimit-Resource, X-RateLimit-Reset, X-OAuth-Scopes, X-Accepted-OAuth-Scopes, X-Poll-Interval, X-GitHub-Media-Type, X-GitHub-SSO, X-GitHub-Request-Id, Deprecation, Sunset\n",
      "Access-Control-Allow-Origin: *\n",
      "Strict-Transport-Security: max-age=31536000; includeSubdomains; preload\n",
      "X-Frame-Options: deny\n",
      "X-Content-Type-Options: nosniff\n",
      "X-XSS-Protection: 0\n",
      "Referrer-Policy: origin-when-cross-origin, strict-origin-when-cross-origin\n",
      "Content-Security-Policy: default-src 'none'\n",
      "Content-Encoding: gzip\n",
      "X-GitHub-Request-Id: 5089:080F:1647CF1:2D398F7:64E50811\n"
     ]
    }
   ],
   "source": [
    " headers = {\n",
    "           \"Authorization\": f\"Bearer {access_token}\",\n",
    "           \"Accept\": \"application/vnd.github.v3+json\"\n",
    "         }\n",
    "        \n",
    "params = {\n",
    "            \"per_page\": 100\n",
    "        } \n",
    "\n",
    "\n",
    "commits_url = f\"https://api.github.com/repos/{username}/{repository}/commits\"\n",
    "comments_response = requests.get(commits_url, headers=headers, params=params)\n",
    "for header, value in comments_response.headers.items():\n",
    "    print(header + \": \" + value)"
   ]
  },
  {
   "cell_type": "code",
   "execution_count": null,
   "id": "92a9119a",
   "metadata": {},
   "outputs": [],
   "source": []
  },
  {
   "cell_type": "code",
   "execution_count": 63,
   "id": "f0e3485f",
   "metadata": {},
   "outputs": [],
   "source": []
  },
  {
   "cell_type": "code",
   "execution_count": null,
   "id": "10042f56",
   "metadata": {},
   "outputs": [],
   "source": []
  },
  {
   "cell_type": "code",
   "execution_count": null,
   "id": "0b55cb28",
   "metadata": {},
   "outputs": [],
   "source": []
  },
  {
   "cell_type": "code",
   "execution_count": null,
   "id": "ec946c32",
   "metadata": {},
   "outputs": [],
   "source": []
  }
 ],
 "metadata": {
  "kernelspec": {
   "display_name": "phd_env",
   "language": "python",
   "name": "phd_env"
  },
  "language_info": {
   "codemirror_mode": {
    "name": "ipython",
    "version": 3
   },
   "file_extension": ".py",
   "mimetype": "text/x-python",
   "name": "python",
   "nbconvert_exporter": "python",
   "pygments_lexer": "ipython3",
   "version": "3.11.4"
  }
 },
 "nbformat": 4,
 "nbformat_minor": 5
}
