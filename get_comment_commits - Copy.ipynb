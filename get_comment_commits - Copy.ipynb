{
 "cells": [
  {
   "cell_type": "code",
   "execution_count": null,
   "id": "e6d5dcb3",
   "metadata": {},
   "outputs": [],
   "source": [
    "import requests\n",
    "import pandas as pd\n",
    "from datetime import datetime\n",
    "import time\n",
    "import json\n"
   ]
  },
  {
   "cell_type": "code",
   "execution_count": null,
   "id": "b900295f",
   "metadata": {},
   "outputs": [],
   "source": [
    "# Replace with your GitHub username, repository name, and access token # timzzy deepTralog tensorflow\n",
    "username = \"framework username\"\n",
    "repository = \"framework repository name\"\n",
    "access_token = \"my access token\"\n",
    "\n",
    "json_name = \"all_commits_\" + repository\n"
   ]
  },
  {
   "cell_type": "code",
   "execution_count": null,
   "id": "a742ad04",
   "metadata": {},
   "outputs": [],
   "source": [
    "def fetch_json(json_name):\n",
    "    with open(\"raw_json/\"+json_name  + \".json\", 'r') as json_file:\n",
    "        json_data = json.load(json_file)\n",
    "    return json_data\n",
    "\n",
    "\n",
    "def fetch_commit_comments(json_name):\n",
    "    comment_commits = []\n",
    "     \n",
    "    #call the function that loads the issue json file\n",
    "    all_json = fetch_json(json_name)\n",
    "    \n",
    "    \n",
    "    for commit in all_json:\n",
    "        commit_sha = commit['sha']\n",
    "        #print(f\"Issue #{issue_number}: {issue['title']}\")\n",
    "        \n",
    "        \n",
    "        headers = {\n",
    "           \"Authorization\": f\"Bearer {access_token}\",\n",
    "           \"Accept\": \"application/vnd.github.v3+json\"\n",
    "         }\n",
    "        \n",
    "        params = {\n",
    "                    \"per_page\": 100\n",
    "                } \n",
    "\n",
    "        \n",
    "        # Get comments for the current commit\n",
    "        commits_url = f\"https://api.github.com/repos/{username}/{repository}/commits/{commit_sha}/comments\"\n",
    "        comments_response = requests.get(commits_url, headers=headers, params=params)\n",
    "    \n",
    "        if (comments_response.status_code == 200) :\n",
    "            comment_commits.extend(comments_response.json())\n",
    "#             for comment in issue_commits:\n",
    "#                 print(f\"Comment by {comment['user']['login']}: {comment['body']}\")\n",
    "        else:\n",
    "            comment_commits = []\n",
    "            print(f\"Request failed with status code: {response.status_code}\")\n",
    "        \n",
    "        #time.sleep(60)\n",
    "    return comment_commits\n"
   ]
  },
  {
   "cell_type": "code",
   "execution_count": null,
   "id": "a1488cb7",
   "metadata": {},
   "outputs": [],
   "source": [
    "#Save the commit comments to a json file\n",
    "try:\n",
    "    if __name__ == \"__main__\":\n",
    "        comment_file_name= \"commit_comments_\" + repository\n",
    "        all_comments = fetch_commit_comments(json_name)\n",
    "        file_path = \"raw_json/\" + comment_file_name + \".json\"\n",
    "        with open(file_path, \"w\") as json_file:\n",
    "            json.dump(all_comments, json_file, indent=1) \n",
    "        print(f\"successfully saved as {comment_file_name}.json\" )\n",
    "except Exception as e:\n",
    "    print(\"An error occurred, could not save the file\", e)"
   ]
  },
  {
   "cell_type": "code",
   "execution_count": null,
   "id": "f49661cc",
   "metadata": {},
   "outputs": [],
   "source": [
    " headers = {\n",
    "           \"Authorization\": f\"Bearer {access_token}\",\n",
    "           \"Accept\": \"application/vnd.github.v3+json\"\n",
    "         }\n",
    "        \n",
    "params = {\n",
    "            \"per_page\": 100\n",
    "        } \n",
    "\n",
    "\n",
    "commits_url = f\"https://api.github.com/repos/{username}/{repository}/commits\"\n",
    "comments_response = requests.get(commits_url, headers=headers, params=params)\n",
    "for header, value in comments_response.headers.items():\n",
    "    print(header + \": \" + value)"
   ]
  },
  {
   "cell_type": "code",
   "execution_count": null,
   "id": "528a3081",
   "metadata": {},
   "outputs": [],
   "source": []
  }
 ],
 "metadata": {
  "kernelspec": {
   "display_name": "phd_env",
   "language": "python",
   "name": "phd_env"
  },
  "language_info": {
   "codemirror_mode": {
    "name": "ipython",
    "version": 3
   },
   "file_extension": ".py",
   "mimetype": "text/x-python",
   "name": "python",
   "nbconvert_exporter": "python",
   "pygments_lexer": "ipython3",
   "version": "3.11.4"
  }
 },
 "nbformat": 4,
 "nbformat_minor": 5
}
