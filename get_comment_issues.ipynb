{
 "cells": [
  {
   "cell_type": "code",
   "execution_count": 4,
   "id": "18baba22",
   "metadata": {},
   "outputs": [],
   "source": [
    "import requests\n",
    "import pandas as pd\n",
    "from datetime import datetime\n",
    "import time\n",
    "import json\n"
   ]
  },
  {
   "cell_type": "code",
   "execution_count": 11,
   "id": "e4e690db",
   "metadata": {},
   "outputs": [],
   "source": [
    "# Replace with your GitHub username, repository name, and access token # timzzy deepTralog tensorflow\n",
    "username = \"my access token\"\n",
    "repository = \"framework repository name\"\n",
    "access_token = \"my access token\"\n",
    "\n",
    "json_name = \"all_issues_\" + repository\n"
   ]
  },
  {
   "cell_type": "code",
   "execution_count": 12,
   "id": "4a1ff466",
   "metadata": {
    "scrolled": true
   },
   "outputs": [],
   "source": [
    "    \n",
    "def fetch_json(json_name):\n",
    "    with open(\"raw_json/\"+json_name  + \".json\", 'r') as json_file:\n",
    "        json_data = json.load(json_file)\n",
    "    return json_data\n",
    "\n",
    "\n",
    "\n",
    "def fetch_issue_comments(json_name):\n",
    "    issue_comments = []\n",
    "     \n",
    "    #call the function that loads the issue json file\n",
    "    all_issues = fetch_json(json_name)\n",
    "    \n",
    "    for issue in all_issues:\n",
    "        issue_number = issue['number']\n",
    "        #print(f\"Issue #{issue_number}: {issue['title']}\")\n",
    "        \n",
    "        headers = {\n",
    "           \"Authorization\": f\"Bearer {access_token}\",\n",
    "           \"Accept\": \"application/vnd.github.v3+json\"\n",
    "         }\n",
    "        \n",
    "        params = {\n",
    "                    \"per_page\": 100\n",
    "                } \n",
    "\n",
    "        \n",
    "        # Get comments for the current issue\n",
    "        comments_url = f\"https://api.github.com/repos/{username}/{repository}/issues/{issue_number}/comments\"\n",
    "        comments_response = requests.get(comments_url, headers=headers, params=params)\n",
    "    \n",
    "        if (comments_response.status_code == 200) :\n",
    "            issue_comments.extend(comments_response.json())\n",
    "\n",
    "        else:\n",
    "            issue_comments = []\n",
    "            print(f\"Request failed with status code: {response.status_code}\")\n",
    "        \n",
    "#         time.sleep(300)\n",
    "    return issue_comments\n"
   ]
  },
  {
   "cell_type": "code",
   "execution_count": 13,
   "id": "8afe7142",
   "metadata": {},
   "outputs": [
    {
     "name": "stdout",
     "output_type": "stream",
     "text": [
      "successfully saved as issue_comments_deepTralog.json\n"
     ]
    }
   ],
   "source": [
    "#Save the issue comments to a json file\n",
    "try:\n",
    "    if __name__ == \"__main__\":\n",
    "        comment_file_name= \"issue_comments_\" + repository\n",
    "        all_comments = fetch_issue_comments(json_name)\n",
    "        file_path = \"raw_json/\" + comment_file_name + \".json\"\n",
    "        with open(file_path, \"w\") as json_file:\n",
    "            json.dump(all_comments, json_file, indent=1) \n",
    "        print(f\"successfully saved as {comment_file_name}.json\" )\n",
    "except Exception as e:\n",
    "    print(\"An error occurred, could not save the file\", e)\n",
    "\n"
   ]
  },
  {
   "cell_type": "code",
   "execution_count": 1,
   "id": "8877846b",
   "metadata": {},
   "outputs": [
    {
     "name": "stdout",
     "output_type": "stream",
     "text": [
      "Krippendorff's alpha for two raters: 0\n"
     ]
    }
   ],
   "source": []
  }
 ],
 "metadata": {
  "kernelspec": {
   "display_name": "phd_env",
   "language": "python",
   "name": "phd_env"
  },
  "language_info": {
   "codemirror_mode": {
    "name": "ipython",
    "version": 3
   },
   "file_extension": ".py",
   "mimetype": "text/x-python",
   "name": "python",
   "nbconvert_exporter": "python",
   "pygments_lexer": "ipython3",
   "version": "3.11.4"
  }
 },
 "nbformat": 4,
 "nbformat_minor": 5
}
