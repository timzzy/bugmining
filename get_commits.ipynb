{
 "cells": [
  {
   "cell_type": "code",
   "execution_count": 12,
   "id": "56037b11",
   "metadata": {},
   "outputs": [],
   "source": [
    "import requests\n",
    "import pandas as pd\n",
    "from datetime import datetime\n",
    "import json\n",
    "import time\n"
   ]
  },
  {
   "cell_type": "code",
   "execution_count": 150,
   "id": "e28d2b9d",
   "metadata": {},
   "outputs": [],
   "source": [
    "# Replace with your GitHub username, repository name, and access token # timzzy deepTralog tensorflow\n",
    "username = \"framework username\"\n",
    "repository = \"framework repository name\"\n",
    "access_token = \"my github access token\""
   ]
  },
  {
   "cell_type": "code",
   "execution_count": 151,
   "id": "ebdab480",
   "metadata": {},
   "outputs": [],
   "source": [
    "def get_all_commits(username, repository, access_token):\n",
    "    issues = []\n",
    "    loop_count =0 \n",
    "    start_date_str = '1990-03-01'  # The start date\n",
    "    end_date_str = '2023-08-30'    # The end date\n",
    "\n",
    "    # Initialize headers with the access token\n",
    "    headers = {\n",
    "        \"Authorization\": f\"Bearer {access_token}\",\n",
    "        \"Accept\": \"application/vnd.github.v3+json\"\n",
    "    }\n",
    "\n",
    "    # Start with the first page of issues\n",
    "    url = f\"https://api.github.com/repos/{username}/{repository}/commits\"\n",
    "    params = {\n",
    "              \"per_page\": 100,\n",
    "#               \"sort\": \"updated\", #didnt work for commit\n",
    "#               \"direction\": \"asc\",  #didnt work for commit\n",
    "#               \"since\": start_date_str +'T00:00:00Z', #since worked for commit and is for date created inclusive of the beginning date\n",
    "#               \"until\": end_date_str + 'T23:59:59Z' #also works for commit\n",
    "             }  \n",
    "\n",
    "    while url :\n",
    "        response = requests.get(url, headers=headers, params=params)\n",
    "        \n",
    "        \n",
    "        # Check if the request was successful\n",
    "        if response.status_code == 200:\n",
    "            issues.extend(response.json())\n",
    "            \n",
    "            \n",
    "            # Check if there are more pages\n",
    "            if \"Link\" in response.headers and 'rel=\"next\"' in response.headers[\"Link\"]:\n",
    "                url = response.links[\"next\"][\"url\"]\n",
    "            else:\n",
    "                url = None\n",
    "                \n",
    "#             loop_count+=1   \n",
    "#             #Break the loop after X-loop time\n",
    "#             if loop_count <2:\n",
    "#                break\n",
    "#                url = None  # the goal is to stop running the script after then\n",
    "                \n",
    "        else:\n",
    "            print(f\"Error: Unable to fetch Commit. Status code: {response.status_code}\")\n",
    "            return []\n",
    "        \n",
    "        #add delay of 60seconds, the next while loop runs every 60 seconds\n",
    "#         time.sleep(10)\n",
    "    return issues\n",
    "\n",
    "\n",
    "\n",
    "\n",
    "\n"
   ]
  },
  {
   "cell_type": "code",
   "execution_count": 152,
   "id": "82c66d99",
   "metadata": {},
   "outputs": [
    {
     "name": "stdout",
     "output_type": "stream",
     "text": [
      "successfully saved as all_commits_deepTralog.json\n"
     ]
    }
   ],
   "source": [
    "#Save the issues to json\n",
    "try:\n",
    "    if __name__ == \"__main__\":\n",
    "        commit_file_name= \"all_commits_\" + repository\n",
    "        all_commits = get_all_commits(username, repository, access_token)\n",
    "        file_path = \"raw_json/\" + commit_file_name + \".json\"\n",
    "        with open(file_path, \"w\") as json_file:\n",
    "            json.dump(all_commits, json_file, indent=1)      \n",
    "        print(f\"successfully saved as {commit_file_name}.json\" )    \n",
    "except Exception as e:\n",
    "    print(\"An error occurred, could not save the file\", e)\n"
   ]
  },
  {
   "cell_type": "code",
   "execution_count": null,
   "id": "f28b5d77",
   "metadata": {},
   "outputs": [],
   "source": [
    "#no needt to run this cell\n",
    "//\n",
    "if all_commit:\n",
    "\n",
    "\n",
    "\n",
    "    # Extract relevant information from issues and create a DataFrame\n",
    "    commit_data = {\n",
    "        'Sha': [commit['sha'] for commit in all_commit],\n",
    "        'Message': [commit['commit']['message'] for commit in all_commit],\n",
    "        'Author Name': [commit['commit']['author']['name'] for commit in all_commit],\n",
    "        'Committed On': [commit['commit']['author']['date'] for commit in all_commit],\n",
    "        'API URL': [commit['url'] for commit in all_commit],\n",
    "        'HTML URL': [commit['html_url'] for commit in all_commit],\n",
    "        'Comment URL': [commit['comments_url'] for commit in all_commit],\n",
    "        \n",
    "        \n",
    "    }\n",
    "else:\n",
    "    print(\"No commit pulled from Repository\")\n",
    "\n",
    "\n",
    "# Make a dataframe\n",
    "df_commit = pd.DataFrame(commit_data)\n",
    "\n",
    "# Save the DataFrame to an Excel file\n",
    "# issue_output_file = f'{username}_{repository}_commit.xlsx'\n",
    "# saved_output = df_issues.to_excel(issue_output_file, index=False, engine='xlsxwriter') #or engine openpyxl\n",
    "\n",
    "#     if saved_output:\n",
    "#         print(f\"Issues saved to {issue_output_file}\")\n",
    "#     else:\n",
    "#         print(f\"Could not save issues\")"
   ]
  },
  {
   "cell_type": "code",
   "execution_count": null,
   "id": "034fbf04",
   "metadata": {},
   "outputs": [],
   "source": []
  },
  {
   "cell_type": "code",
   "execution_count": null,
   "id": "3aa712e5",
   "metadata": {},
   "outputs": [],
   "source": []
  },
  {
   "cell_type": "code",
   "execution_count": null,
   "id": "ac920f59",
   "metadata": {},
   "outputs": [],
   "source": []
  },
  {
   "cell_type": "code",
   "execution_count": null,
   "id": "f222a8a5",
   "metadata": {},
   "outputs": [],
   "source": []
  },
  {
   "cell_type": "code",
   "execution_count": null,
   "id": "4d410ca3",
   "metadata": {},
   "outputs": [],
   "source": []
  },
  {
   "cell_type": "code",
   "execution_count": null,
   "id": "e89b7ff1",
   "metadata": {},
   "outputs": [],
   "source": []
  },
  {
   "cell_type": "code",
   "execution_count": null,
   "id": "5501a7f9",
   "metadata": {},
   "outputs": [],
   "source": []
  },
  {
   "cell_type": "code",
   "execution_count": null,
   "id": "e776b081",
   "metadata": {},
   "outputs": [],
   "source": []
  },
  {
   "cell_type": "code",
   "execution_count": null,
   "id": "89f763d8",
   "metadata": {},
   "outputs": [],
   "source": []
  },
  {
   "cell_type": "code",
   "execution_count": null,
   "id": "fc9964e8",
   "metadata": {},
   "outputs": [],
   "source": []
  }
 ],
 "metadata": {
  "kernelspec": {
   "display_name": "phd_env",
   "language": "python",
   "name": "phd_env"
  },
  "language_info": {
   "codemirror_mode": {
    "name": "ipython",
    "version": 3
   },
   "file_extension": ".py",
   "mimetype": "text/x-python",
   "name": "python",
   "nbconvert_exporter": "python",
   "pygments_lexer": "ipython3",
   "version": "3.11.4"
  }
 },
 "nbformat": 4,
 "nbformat_minor": 5
}
